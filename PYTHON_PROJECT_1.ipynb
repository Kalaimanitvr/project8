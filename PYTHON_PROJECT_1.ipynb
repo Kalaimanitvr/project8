{
 "cells": [
  {
   "cell_type": "code",
   "execution_count": 1,
   "id": "11ec525b-6f62-48bf-ba60-5b2955d0e48e",
   "metadata": {},
   "outputs": [
    {
     "name": "stdout",
     "output_type": "stream",
     "text": [
      "\n",
      "Riddle:  I am not alive, but I can grow. I don’t have lungs, but I need air. What am I?\n"
     ]
    },
    {
     "name": "stdin",
     "output_type": "stream",
     "text": [
      "Your answer:  fire\n"
     ]
    },
    {
     "name": "stdout",
     "output_type": "stream",
     "text": [
      "Correct!\n"
     ]
    },
    {
     "name": "stdin",
     "output_type": "stream",
     "text": [
      "Do you want to play again? (yes/no):  no\n"
     ]
    },
    {
     "name": "stdout",
     "output_type": "stream",
     "text": [
      "\n",
      "Your score: 1/1 (100.00%)\n"
     ]
    }
   ],
   "source": [
    "#Task 1\n",
    "#Write a program to develop a simple console-based computer brain teaser, a riddle logic puzzle, text-based puzzles involving wordplay, logic, \n",
    "#and lateral thinking games in Python. The program will randomly choose a riddle question from a list of riddles (question-answer dictionary) \n",
    "#provided in the program. It will then prompt the user for an answer and compare it against the correct answer.\n",
    "#If the user's answer matches the correct one, the program will print 'Correct'. Otherwise, \n",
    "#it will print 'Incorrect' and provide the correct answer. The program will continue to run infinitely, \n",
    "#allowing users to solve multiple riddles with the option to play again. Upon exiting the game, \n",
    "#the program should display the user's score as a percentage.\n",
    "import random \n",
    "\n",
    "def get_riddle():\n",
    "    riddles = {\n",
    "        \"I speak without a mouth and hear without ears. I have no body, but I come alive with wind. What am I?\": \"Echo\",\n",
    "        \"You measure my life in hours, and I serve you by expiring. I die at your feet, what am I?\": \"Candle\",\n",
    "        \"I have keys but no locks. I have space but no room. You can enter, but you can't go outside. What am I?\": \"Keyboard\",\n",
    "        \"I am not alive, but I can grow. I don’t have lungs, but I need air. What am I?\": \"Fire\",\n",
    "        \"The more of this there is, the less you see. What is it?\": \"Darkness\"\n",
    "    }\n",
    "    question, answer = random.choice(list(riddles.items()))\n",
    "    return question, answer\n",
    "\n",
    "def main():\n",
    "    score = 0\n",
    "    total_questions = 0\n",
    "\n",
    "    while True:\n",
    "        question, answer = get_riddle()\n",
    "        print(\"\\nRiddle: \", question)\n",
    "        user_answer = input(\"Your answer: \").strip().lower()\n",
    "\n",
    "        if user_answer == answer.lower():\n",
    "            print(\"Correct!\")\n",
    "            score += 1\n",
    "        else:\n",
    "            print(f\"Incorrect. The correct answer is: {answer}\")\n",
    "\n",
    "        total_questions += 1\n",
    "\n",
    "        play_again = input(\"Do you want to play again? (yes/no): \").strip().lower()\n",
    "        if play_again != 'yes':\n",
    "            break\n",
    "\n",
    "    if total_questions > 0:\n",
    "        score_percentage = (score / total_questions) * 100\n",
    "        print(f\"\\nYour score: {score}/{total_questions} ({score_percentage:.2f}%)\")\n",
    "    else:\n",
    "        print(\"No riddles answered.\")\n",
    "\n",
    "if __name__ == \"__main__\":\n",
    "    main()"
   ]
  },
  {
   "cell_type": "code",
   "execution_count": 12,
   "id": "73274cca-921d-4a43-8ea4-9fbedd0fae7e",
   "metadata": {},
   "outputs": [
    {
     "name": "stdin",
     "output_type": "stream",
     "text": [
      "Solve: 4 + 15 =  19\n"
     ]
    },
    {
     "name": "stdout",
     "output_type": "stream",
     "text": [
      "Correct!\n"
     ]
    },
    {
     "name": "stdin",
     "output_type": "stream",
     "text": [
      "Do you want to play again? (yes/no):  no\n"
     ]
    },
    {
     "name": "stdout",
     "output_type": "stream",
     "text": [
      "\n",
      "Your score: 1/1 (100.00%)\n"
     ]
    }
   ],
   "source": [
    "#Task 2\n",
    "#To exit full screen, press Esc Write a program to develop a simple console-based computer brain teaser, an arithmetic logic puzzle, \n",
    "#a problem-solving game in Python. The program will randomly generate two numeric numbers within the range of 1 to 20 and \n",
    "#an arithmetic operator ('+', '-', '/', '*').\n",
    "#The program will run infinite turns to solve the arithmetic puzzle with the option to play again. 13?\n",
    "#The program should handle exceptions gracefully, \n",
    "#such as invalid inputs when the user attempts to solve the puzzle. The program should print the percentage of the score when the user leaves the game#.\n",
    "\n",
    "\n",
    "import operator\n",
    "\n",
    "def generate_puzzle():\n",
    "    num1 = random.randint(1, 20)\n",
    "    num2 = random.randint(1, 20)\n",
    "    operators = {\n",
    "        '+': operator.add,\n",
    "        '-': operator.sub,\n",
    "        '*': operator.mul,\n",
    "        '/': operator.truediv\n",
    "    }\n",
    "    op_symbol, op_function = random.choice(list(operators.items()))\n",
    "    return num1, num2, op_symbol, op_function\n",
    "\n",
    "def main():\n",
    "    score = 0\n",
    "    total_questions = 0\n",
    "\n",
    "    while True:\n",
    "        num1, num2, op_symbol, op_function = generate_puzzle()\n",
    "        question = f\"{num1} {op_symbol} {num2}\"\n",
    "\n",
    "        while True:\n",
    "            try:\n",
    "                user_answer = float(input(f\"Solve: {question} = \"))\n",
    "                correct_answer = op_function(num1, num2)\n",
    "                if abs(user_answer - correct_answer) < 0.001:  # Allowing for floating-point precision issues\n",
    "                    print(\"Correct!\")\n",
    "                    score += 1\n",
    "                else:\n",
    "                    print(f\"Incorrect. The correct answer is: {correct_answer:.2f}\")\n",
    "                break\n",
    "            except ValueError:\n",
    "                print(\"Invalid input. Please enter a numeric value.\")\n",
    "            except ZeroDivisionError:\n",
    "                print(\"Division by zero is not allowed. Please try again.\")\n",
    "\n",
    "        total_questions += 1\n",
    "\n",
    "        play_again = input(\"Do you want to play again? (yes/no): \").strip().lower()\n",
    "        if play_again != 'yes':\n",
    "            break\n",
    "\n",
    "    if total_questions > 0:\n",
    "        score_percentage = (score / total_questions) * 100\n",
    "        print(f\"\\nYour score: {score}/{total_questions} ({score_percentage:.2f}%)\")\n",
    "    else:\n",
    "        print(\"No puzzles answered.\")\n",
    "\n",
    "if __name__ == \"__main__\":\n",
    "    main()"
   ]
  },
  {
   "cell_type": "markdown",
   "id": "d2a09181-cd0e-4d82-8d2f-60cad5dd00e5",
   "metadata": {},
   "source": [
    "Task 3\n",
    "Write a Python program to develop a General Knowledge quiz game. Create four lists to store general knowledge questions of four categories: Science, Mathematics, Geography and others. Each item in these lists is a dictionary with \"question\" and \"answer\" keys, as provided in the upcoming slide. Ensure to include proper exception handling to handle invalid user inputs.\n",
    "\n",
    "The program should display questions based on the category selected by the user. After the user submits an answer, the program should indicate whether it is correct. If the answer provided by the user is incorrect, the program should display the correct answer.\n",
    "Task 3 (cont'd)\n",
    "List of questions and answers:\n",
    "1. Science category:\n",
    "a) Question: Which gas do plants absorb during photosynthesis?\n",
    "Answer: Carbon dioxide\n",
    "b) Question: What is the full name of the WWW?\n",
    "Answer: World Wide Web\n",
    "c) Question: How many bones are there in the adult human body?\n",
    "Answer: 206\n",
    "2. Mathematics category:\n",
    "a) Question: What is the only even prime number?\n",
    "Answer: 2\n",
    "b) Question: What is the sum of the first 5 natural numbers?\n",
    "Answer: 15\n",
    "c) Question: What is the name of the mathematical symbol π?\n",
    "Answer: Pi\n",
    "3. Geography category:\n",
    "a) Question: What is the tallest mountain on Earth?\n",
    "Answer: Mount Everest\n",
    "b) Question: What is the capital of France?\n",
    "Answer: Paris\n",
    "c) Question: Which planet is known as the 'Red Planet'?\n",
    "Answer: Mars\n",
    "4. Others:\n",
    "a) Question: Which country won the most recent FIFA World Cup (as of 2022)?\n",
    "Answer: Argentina\n",
    "b) Question: Who invented the light bulb?\n",
    "Answer: Thomas Edison\n",
    "c) Question: In what year did India declare itself a Democratic and Republic state with the adoption of the Constitution?\n",
    "Answer: 1950\n",
    "Create the following methods for game logic:\n",
    "ask_category(): Presents category options for the user to choose from.\n",
    "ask_question(question): Displays a given question and prompts the user for an answer.\n",
    "check_answer(user_answer, correct_answer): Compares the user's answer with the correct answer and provides feedback.\n",
    "\n",
    "display_score(questions, score): Prints a summary of the player's performance, including correct answers, total questions, and percentage of correct responses. exec_questions (questions): Iterates through a given set of questions, handles user interactions, and keeps track of the\n",
    "score.\n",
    "\n",
    "play_game(): Manages the main game loop, including category selection, question execution, and the option to play again.\n",
    "Incorporate exception handling to ensure the program gracefully handles invalid inputs and unexpected errors.\n",
    "\n",
    "Run the Program:\n",
    "The if _name == \"__main__\": block ensures code execution only when the program is run directly. Prints a welcome message.\n",
    "Calls the play_game() method to start the game.\n",
    "Prints a thank you message after the game concludes.\n",
    "\n",
    "Here is an example of how the program should work:\n",
    "Choose your category from the following list:\n",
    "1. Science-based\n",
    "2. Mathematics-based\n",
    "3. Geography-based\n",
    "4. Others\n",
    "\n",
    "Suppose 2nd category is chosen by user, then a Mathematics- based question should be displayed, such as 'What is the only even prime number?' The user will provide their answer.\n",
    "If the answer is correct, the program should display: 'Correct'\n",
    "If the answer is incorrect, the program should display: 'Incorrect. The correct answer is 2'"
   ]
  },
  {
   "cell_type": "code",
   "execution_count": 4,
   "id": "471c23a0-6b67-40df-a438-1fb0ee9e8c6f",
   "metadata": {},
   "outputs": [
    {
     "name": "stdout",
     "output_type": "stream",
     "text": [
      "Welcome to the General Knowledge Quiz Game!\n",
      "\n",
      "Choose your category from the following list:\n",
      "1. Science-based\n",
      "2. Mathematics-based\n",
      "3. Geography-based\n",
      "4. Others\n"
     ]
    },
    {
     "name": "stdin",
     "output_type": "stream",
     "text": [
      "Enter the number of your chosen category:  1\n"
     ]
    },
    {
     "name": "stdout",
     "output_type": "stream",
     "text": [
      "\n",
      "You selected the category: Science-based\n"
     ]
    },
    {
     "name": "stdin",
     "output_type": "stream",
     "text": [
      "Which gas do plants absorb during photosynthesis?  carbon dioxide\n"
     ]
    },
    {
     "name": "stdout",
     "output_type": "stream",
     "text": [
      "Correct!\n"
     ]
    },
    {
     "name": "stdin",
     "output_type": "stream",
     "text": [
      "How many bones are there in the adult human body?  206\n"
     ]
    },
    {
     "name": "stdout",
     "output_type": "stream",
     "text": [
      "Correct!\n"
     ]
    },
    {
     "name": "stdin",
     "output_type": "stream",
     "text": [
      "What is the full name of the WWW?  world wide web\n"
     ]
    },
    {
     "name": "stdout",
     "output_type": "stream",
     "text": [
      "Correct!\n",
      "\n",
      "Your score: 3/3 (100.00%)\n"
     ]
    },
    {
     "name": "stdin",
     "output_type": "stream",
     "text": [
      "\n",
      "Do you want to play again? (yes/no):  no\n"
     ]
    },
    {
     "name": "stdout",
     "output_type": "stream",
     "text": [
      "Thank you for playing!\n"
     ]
    }
   ],
   "source": [
    "science_questions = [\n",
    "    {\"question\": \"Which gas do plants absorb during photosynthesis?\", \"answer\": \"Carbon dioxide\"},\n",
    "    {\"question\": \"What is the full name of the WWW?\", \"answer\": \"World Wide Web\"},\n",
    "    {\"question\": \"How many bones are there in the adult human body?\", \"answer\": \"206\"}\n",
    "]\n",
    "\n",
    "mathematics_questions = [\n",
    "    {\"question\": \"What is the only even prime number?\", \"answer\": \"2\"},\n",
    "    {\"question\": \"What is the sum of the first 5 natural numbers?\", \"answer\": \"15\"},\n",
    "    {\"question\": \"What is the name of the mathematical symbol π?\", \"answer\": \"Pi\"}\n",
    "]\n",
    "\n",
    "geography_questions = [\n",
    "    {\"question\": \"What is the tallest mountain on Earth?\", \"answer\": \"Mount Everest\"},\n",
    "    {\"question\": \"What is the capital of France?\", \"answer\": \"Paris\"},\n",
    "    {\"question\": \"Which planet is known as the 'Red Planet'?\", \"answer\": \"Mars\"}\n",
    "]\n",
    "\n",
    "other_questions = [\n",
    "    {\"question\": \"Which country won the most recent FIFA World Cup (as of 2022)?\", \"answer\": \"Argentina\"},\n",
    "    {\"question\": \"Who invented the light bulb?\", \"answer\": \"Thomas Edison\"},\n",
    "    {\"question\": \"In what year did India declare itself a Democratic and Republic state with the adoption of the Constitution?\", \"answer\": \"1950\"}\n",
    "]\n",
    "\n",
    "def ask_category():\n",
    "    categories = {\n",
    "        \"1\": (\"Science-based\", science_questions),\n",
    "        \"2\": (\"Mathematics-based\", mathematics_questions),\n",
    "        \"3\": (\"Geography-based\", geography_questions),\n",
    "        \"4\": (\"Others\", other_questions)\n",
    "    }\n",
    "    \n",
    "    while True:\n",
    "        print(\"\\nChoose your category from the following list:\")\n",
    "        for key, (name, _) in categories.items():\n",
    "            print(f\"{key}. {name}\")\n",
    "\n",
    "        choice = input(\"Enter the number of your chosen category: \").strip()\n",
    "        \n",
    "        if choice in categories:\n",
    "            return categories[choice]\n",
    "        else:\n",
    "            print(\"Invalid choice. Please choose a valid category number.\")\n",
    "\n",
    "def ask_question(question):\n",
    "    return input(f\"{question['question']} \").strip()\n",
    "\n",
    "def check_answer(user_answer, correct_answer):\n",
    "    return user_answer.lower() == correct_answer.lower()\n",
    "\n",
    "def display_score(total_questions, score):\n",
    "    if total_questions > 0:\n",
    "        score_percentage = (score / total_questions) * 100\n",
    "        print(f\"\\nYour score: {score}/{total_questions} ({score_percentage:.2f}%)\")\n",
    "    else:\n",
    "        print(\"No questions answered.\")\n",
    "\n",
    "def exec_questions(questions):\n",
    "    score = 0\n",
    "    total_questions = 0\n",
    "\n",
    "    for question in questions:\n",
    "        user_answer = ask_question(question)\n",
    "        if check_answer(user_answer, question['answer']):\n",
    "            print(\"Correct!\")\n",
    "            score += 1\n",
    "        else:\n",
    "            print(f\"Incorrect. The correct answer is: {question['answer']}\")\n",
    "        total_questions += 1\n",
    "\n",
    "    return total_questions, score\n",
    "\n",
    "def play_game():\n",
    "    while True:\n",
    "        category_name, questions = ask_category()\n",
    "        print(f\"\\nYou selected the category: {category_name}\")\n",
    "        total_questions, score = exec_questions(random.sample(questions, len(questions)))\n",
    "\n",
    "        display_score(total_questions, score)\n",
    "\n",
    "        play_again = input(\"\\nDo you want to play again? (yes/no): \").strip().lower()\n",
    "        if play_again != 'yes':\n",
    "            break\n",
    "\n",
    "if __name__ == \"__main__\":\n",
    "    print(\"Welcome to the General Knowledge Quiz Game!\")\n",
    "    play_game()\n",
    "    print(\"Thank you for playing!\")"
   ]
  },
  {
   "cell_type": "code",
   "execution_count": 5,
   "id": "36b70ca2-278d-4a0b-9333-650bee0d5ec7",
   "metadata": {},
   "outputs": [
    {
     "name": "stdout",
     "output_type": "stream",
     "text": [
      "Welcome to the Rock-Paper-Scissors Game!\n"
     ]
    },
    {
     "name": "stdin",
     "output_type": "stream",
     "text": [
      "Enter your choice (rock, paper, or scissors):  rock\n"
     ]
    },
    {
     "name": "stdout",
     "output_type": "stream",
     "text": [
      "\n",
      "Computer chose: paper\n",
      "You chose: rock\n",
      "Computer wins!\n"
     ]
    },
    {
     "name": "stdin",
     "output_type": "stream",
     "text": [
      "\n",
      "Do you want to play again? (yes/no):  no\n"
     ]
    },
    {
     "name": "stdout",
     "output_type": "stream",
     "text": [
      "Thank you for playing!\n"
     ]
    }
   ],
   "source": [
    "#Task 4\n",
    "#Think about how the rules of the Rock-Paper-Scissors game can be translated into Python code. \n",
    "#Build the game using a Python program where Player 1 is the computer, making random choices.\n",
    "\n",
    "def get_computer_choice():\n",
    "    choices = [\"rock\", \"paper\", \"scissors\"]\n",
    "    return random.choice(choices)\n",
    "\n",
    "def get_user_choice():\n",
    "    while True:\n",
    "        user_input = input(\"Enter your choice (rock, paper, or scissors): \").strip().lower()\n",
    "        if user_input in [\"rock\", \"paper\", \"scissors\"]:\n",
    "            return user_input\n",
    "        else:\n",
    "            print(\"Invalid choice. Please enter rock, paper, or scissors.\")\n",
    "\n",
    "def determine_winner(computer_choice, user_choice):\n",
    "    if computer_choice == user_choice:\n",
    "        return \"It's a tie!\"\n",
    "    elif (computer_choice == \"rock\" and user_choice == \"scissors\") or \\\n",
    "         (computer_choice == \"paper\" and user_choice == \"rock\") or \\\n",
    "         (computer_choice == \"scissors\" and user_choice == \"paper\"):\n",
    "        return \"Computer wins!\"\n",
    "    else:\n",
    "        return \"You win!\"\n",
    "\n",
    "def play_game():\n",
    "    while True:\n",
    "        computer_choice = get_computer_choice()\n",
    "        user_choice = get_user_choice()\n",
    "\n",
    "        print(f\"\\nComputer chose: {computer_choice}\")\n",
    "        print(f\"You chose: {user_choice}\")\n",
    "\n",
    "        result = determine_winner(computer_choice, user_choice)\n",
    "        print(result)\n",
    "\n",
    "        play_again = input(\"\\nDo you want to play again? (yes/no): \").strip().lower()\n",
    "        if play_again != 'yes':\n",
    "            break\n",
    "\n",
    "if __name__ == \"__main__\":\n",
    "    print(\"Welcome to the Rock-Paper-Scissors Game!\")\n",
    "    play_game()\n",
    "    print(\"Thank you for playing!\")"
   ]
  },
  {
   "cell_type": "code",
   "execution_count": 6,
   "id": "9a3248ba-1adf-4953-8b79-b5226184b07f",
   "metadata": {},
   "outputs": [
    {
     "name": "stdout",
     "output_type": "stream",
     "text": [
      "Welcome to the Two-Player Rock-Paper-Scissors Game!\n"
     ]
    },
    {
     "name": "stdin",
     "output_type": "stream",
     "text": [
      "Hello user1! Enter your name:  Kalaimani\n",
      "Hello user2! Enter your name:  Ram\n",
      "Hello Kalaimani! Enter a choice (rock, paper, scissors):  rock\n",
      "Hello Ram! Enter a choice (rock, paper, scissors):  scissors\n"
     ]
    },
    {
     "name": "stdout",
     "output_type": "stream",
     "text": [
      "Rock beats scissors! Kalaimani wins!\n",
      "Thank you for playing!\n"
     ]
    }
   ],
   "source": [
    "#Task 5\n",
    "#Develop a Python program to simulate a two-player Rock- Paper-Scissors game. \n",
    "#The program should prompt each player to enter their name, allow each player to choose rock, paper, or scissors, \n",
    "#implement logic to determine the winner, and display the winner's name.\n",
    "#Example:\n",
    "#Hello user1! Enter your name: John\n",
    "#Hello user2! Enter your name: Eva\n",
    "#Hello user1! Enter a choice (rock, paper, scissors): rock\n",
    "#Hello user2!Enter a choice (rock, paper, scissors): paper\n",
    "#Paper covers rock! Eva win!\n",
    "\n",
    "def get_player_choice(player_name):\n",
    "    while True:\n",
    "        choice = input(f\"Hello {player_name}! Enter a choice (rock, paper, scissors): \").strip().lower()\n",
    "        if choice in [\"rock\", \"paper\", \"scissors\"]:\n",
    "            return choice\n",
    "        else:\n",
    "            print(\"Invalid choice. Please enter rock, paper, or scissors.\")\n",
    "\n",
    "def determine_winner(player1_name, player1_choice, player2_name, player2_choice):\n",
    "    if player1_choice == player2_choice:\n",
    "        return \"It's a tie!\"\n",
    "    elif (player1_choice == \"rock\" and player2_choice == \"scissors\") or \\\n",
    "         (player1_choice == \"paper\" and player2_choice == \"rock\") or \\\n",
    "         (player1_choice == \"scissors\" and player2_choice == \"paper\"):\n",
    "        return f\"{player1_choice.capitalize()} beats {player2_choice}! {player1_name} wins!\"\n",
    "    else:\n",
    "        return f\"{player2_choice.capitalize()} beats {player1_choice}! {player2_name} wins!\"\n",
    "\n",
    "def play_game():\n",
    "    print(\"Welcome to the Two-Player Rock-Paper-Scissors Game!\")\n",
    "    \n",
    "    player1_name = input(\"Hello user1! Enter your name: \").strip()\n",
    "    player2_name = input(\"Hello user2! Enter your name: \").strip()\n",
    "\n",
    "    player1_choice = get_player_choice(player1_name)\n",
    "    player2_choice = get_player_choice(player2_name)\n",
    "\n",
    "    result = determine_winner(player1_name, player1_choice, player2_name, player2_choice)\n",
    "    print(result)\n",
    "\n",
    "if __name__ == \"__main__\":\n",
    "    play_game()\n",
    "    print(\"Thank you for playing!\")\n",
    "    "
   ]
  }
 ],
 "metadata": {
  "kernelspec": {
   "display_name": "Python 3 (ipykernel)",
   "language": "python",
   "name": "python3"
  },
  "language_info": {
   "codemirror_mode": {
    "name": "ipython",
    "version": 3
   },
   "file_extension": ".py",
   "mimetype": "text/x-python",
   "name": "python",
   "nbconvert_exporter": "python",
   "pygments_lexer": "ipython3",
   "version": "3.11.7"
  },
  "widgets": {
   "application/vnd.jupyter.widget-state+json": {
    "state": {},
    "version_major": 2,
    "version_minor": 0
   }
  }
 },
 "nbformat": 4,
 "nbformat_minor": 5
}
